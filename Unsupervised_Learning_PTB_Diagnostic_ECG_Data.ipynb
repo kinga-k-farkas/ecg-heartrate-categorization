{
 "cells": [
  {
   "cell_type": "code",
   "execution_count": 2,
   "id": "6b47bb93",
   "metadata": {},
   "outputs": [],
   "source": [
    "import pandas as pd\n",
    "import numpy as np"
   ]
  },
  {
   "cell_type": "code",
   "execution_count": 3,
   "id": "6855ff3e",
   "metadata": {},
   "outputs": [
    {
     "name": "stdout",
     "output_type": "stream",
     "text": [
      "(14552, 188)\n"
     ]
    }
   ],
   "source": [
    "df_normal = pd.read_csv(\"archive/ptbdb_normal.csv\", header = None)\n",
    "df_abnormal = pd.read_csv(\"archive/ptbdb_abnormal.csv\", header = None)\n",
    "df = pd.concat([df_normal, df_abnormal])\n",
    "print(df.shape)"
   ]
  },
  {
   "cell_type": "code",
   "execution_count": 4,
   "id": "376cc0b4",
   "metadata": {},
   "outputs": [
    {
     "name": "stdout",
     "output_type": "stream",
     "text": [
      "The feature space is of shape: (14552, 187)\n",
      "The target is of shape: (14552,)\n"
     ]
    }
   ],
   "source": [
    "# Separating features and target \n",
    "X = np.array(df[df.columns[:-1]])\n",
    "print(f'The feature space is of shape: {X.shape}')\n",
    "Y= np.array(df[187])\n",
    "print(f'The target is of shape: {Y.shape}')"
   ]
  },
  {
   "cell_type": "code",
   "execution_count": 10,
   "id": "393977fb",
   "metadata": {},
   "outputs": [],
   "source": [
    "%matplotlib inline\n",
    "import matplotlib.pyplot as plt\n",
    "import seaborn as sns; sns.set()  # for plot styling\n",
    "from sklearn.cluster import KMeans\n",
    "from sklearn.metrics import confusion_matrix\n",
    "from sklearn.metrics import accuracy_score as accuracy\n",
    "from sklearn.metrics import recall_score as recall\n",
    "from sklearn.metrics import precision_score as precision\n",
    "from sklearn.metrics import f1_score\n",
    "from sklearn.model_selection import train_test_split"
   ]
  },
  {
   "cell_type": "code",
   "execution_count": 11,
   "id": "5450564c",
   "metadata": {},
   "outputs": [],
   "source": [
    "kmeans = KMeans(n_clusters=2, random_state=0)\n",
    "kmeans.fit(X)\n",
    "# Make predictions with those same features\n",
    "y_kmeans = kmeans.predict(X)"
   ]
  },
  {
   "cell_type": "code",
   "execution_count": 12,
   "id": "e1f41dec",
   "metadata": {},
   "outputs": [
    {
     "data": {
      "text/plain": [
       "array([0, 1, 0, ..., 0, 0, 0], dtype=int32)"
      ]
     },
     "execution_count": 12,
     "metadata": {},
     "output_type": "execute_result"
    }
   ],
   "source": [
    "y_kmeans"
   ]
  },
  {
   "cell_type": "code",
   "execution_count": 14,
   "id": "a6563048",
   "metadata": {},
   "outputs": [
    {
     "name": "stdout",
     "output_type": "stream",
     "text": [
      "Accuracy = 0.4777350192413414, Precision = 0.8391690009337068, Recall = 0.34218541785646295, F1-score = 0.48613928329952666\n",
      "Confusion Matrix is:\n",
      "[[3357  689]\n",
      " [6911 3595]]\n"
     ]
    }
   ],
   "source": [
    "cm= confusion_matrix(Y,y_kmeans )\n",
    "acc  = accuracy(Y,y_kmeans)\n",
    "rec  = recall(Y,y_kmeans )\n",
    "prec = precision(Y,y_kmeans )\n",
    "f1   = f1_score(Y,y_kmeans )\n",
    "print(f'Accuracy = {acc}, Precision = {prec}, Recall = {rec}, F1-score = {f1}')\n",
    "print('Confusion Matrix is:')\n",
    "print(cm)"
   ]
  },
  {
   "cell_type": "code",
   "execution_count": 15,
   "id": "96c1bc88",
   "metadata": {},
   "outputs": [
    {
     "name": "stderr",
     "output_type": "stream",
     "text": [
      "/Users/kinga/anaconda3/envs/kaggleECG/lib/python3.6/site-packages/sklearn/manifold/_spectral_embedding.py:245: UserWarning: Graph is not fully connected, spectral embedding may not work as expected.\n",
      "  warnings.warn(\"Graph is not fully connected, spectral embedding\"\n"
     ]
    },
    {
     "name": "stdout",
     "output_type": "stream",
     "text": [
      "Accuracy = 0.2795492028587136, Precision = 1.0, Recall = 0.0020940415000951836, F1-score = 0.004179331306990881\n",
      "Confusion Matrix is:\n",
      "[[ 4046     0]\n",
      " [10484    22]]\n"
     ]
    }
   ],
   "source": [
    "from sklearn.cluster import SpectralClustering\n",
    "model = SpectralClustering(n_clusters=2, affinity='nearest_neighbors',\n",
    "                           assign_labels='kmeans')\n",
    "labels = model.fit_predict(X)\n",
    "cm= confusion_matrix(Y,labels )\n",
    "acc  = accuracy(Y,labels)\n",
    "rec  = recall(Y,labels)\n",
    "prec = precision(Y,labels)\n",
    "f1   = f1_score(Y,labels )\n",
    "print(f'Accuracy = {acc}, Precision = {prec}, Recall = {rec}, F1-score = {f1}')\n",
    "print('Confusion Matrix is:')\n",
    "print(cm)"
   ]
  },
  {
   "cell_type": "code",
   "execution_count": 16,
   "id": "3ac444af",
   "metadata": {},
   "outputs": [
    {
     "data": {
      "text/plain": [
       "array([0, 0, 0, ..., 0, 0, 0], dtype=int32)"
      ]
     },
     "execution_count": 16,
     "metadata": {},
     "output_type": "execute_result"
    }
   ],
   "source": [
    "labels \n"
   ]
  },
  {
   "cell_type": "code",
   "execution_count": 19,
   "id": "d073ae45",
   "metadata": {},
   "outputs": [
    {
     "data": {
      "text/plain": [
       "array([1, 1, 1, ..., 1, 1, 1], dtype=int32)"
      ]
     },
     "execution_count": 19,
     "metadata": {},
     "output_type": "execute_result"
    }
   ],
   "source": [
    "switched = -1*(labels -1)\n",
    "switched"
   ]
  },
  {
   "cell_type": "code",
   "execution_count": 20,
   "id": "6a3807a3",
   "metadata": {},
   "outputs": [
    {
     "name": "stdout",
     "output_type": "stream",
     "text": [
      "Accuracy = 0.7204507971412865, Precision = 0.7215416379903647, Recall = 0.9979059584999048, F1-score = 0.8375139798689887\n",
      "Confusion Matrix is:\n",
      "[[    0  4046]\n",
      " [   22 10484]]\n"
     ]
    }
   ],
   "source": [
    "cm= confusion_matrix(Y,switched )\n",
    "acc  = accuracy(Y,switched)\n",
    "rec  = recall(Y,switched)\n",
    "prec = precision(Y,switched)\n",
    "f1   = f1_score(Y,switched )\n",
    "print(f'Accuracy = {acc}, Precision = {prec}, Recall = {rec}, F1-score = {f1}')\n",
    "print('Confusion Matrix is:')\n",
    "print(cm)"
   ]
  },
  {
   "cell_type": "code",
   "execution_count": 21,
   "id": "f5e3432f",
   "metadata": {},
   "outputs": [],
   "source": [
    "from pyod.models.knn import KNN\n",
    "from pyod.utils.utility import standardizer"
   ]
  },
  {
   "cell_type": "code",
   "execution_count": null,
   "id": "2a6b91bb",
   "metadata": {},
   "outputs": [],
   "source": [
    "def get_knn_scores_and_predictions(X_train, X_test, n_neighbors=5):\n",
    "    ### START CODE HERE ###\n",
    "    # Initialize the model\n",
    "    clf = KNN(n_neighbors=n_neighbors)\n",
    "    # Train the model\n",
    "    clf.fit(X_train)\n",
    "    # Get the training data's outlier/decision scores with the decision_scores_ attribute\n",
    "    y_train_scores = clf.decision_scores_\n",
    "    # Generate the anomaly scores for the test data using the decision_function() method \n",
    "    y_test_scores = clf.decision_function(X_test)\n",
    "    # Convert the outlier scores to 2D column arrays, then standardize them so they have \n",
    "    # a mean of 0 and standard deviation of 1\n",
    "    y_train_scores_norm, y_test_scores_norm = standardizer(y_train_scores.reshape(-1,1)), standardizer(y_test_scores.reshape(-1,1))\n",
    "    # Apply the model to the test data to get predictions\n",
    "    y_test_pred = clf.predict(X_test) # outlier labels (0 or 1)\n",
    "    ### END CODE HERE ###\n",
    "    return y_train_scores_norm, y_test_scores_norm, y_test_pred\n",
    "\n",
    "# Call the function with the default KNN\n",
    "y_train_scores_norm, y_test_scores_norm, y_test_pred = get_knn_scores_and_predictions(X_train, X_test)"
   ]
  }
 ],
 "metadata": {
  "kernelspec": {
   "display_name": "Python 3",
   "language": "python",
   "name": "python3"
  },
  "language_info": {
   "codemirror_mode": {
    "name": "ipython",
    "version": 3
   },
   "file_extension": ".py",
   "mimetype": "text/x-python",
   "name": "python",
   "nbconvert_exporter": "python",
   "pygments_lexer": "ipython3",
   "version": "3.6.10"
  }
 },
 "nbformat": 4,
 "nbformat_minor": 5
}
