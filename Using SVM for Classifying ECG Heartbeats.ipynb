{
 "cells": [
  {
   "cell_type": "code",
   "execution_count": 1,
   "metadata": {},
   "outputs": [],
   "source": [
    "import pandas as pd\n",
    "import numpy as np\n"
   ]
  },
  {
   "cell_type": "code",
   "execution_count": 2,
   "metadata": {},
   "outputs": [],
   "source": [
    "df_normal = pd.read_csv(\"archive/ptbdb_normal.csv\", header = None)\n",
    "df_abnormal = pd.read_csv(\"archive/ptbdb_abnormal.csv\", header = None)"
   ]
  },
  {
   "cell_type": "code",
   "execution_count": 3,
   "metadata": {},
   "outputs": [
    {
     "name": "stdout",
     "output_type": "stream",
     "text": [
      "Normal dataset size is (4046, 188)\n"
     ]
    },
    {
     "data": {
      "text/html": [
       "<div>\n",
       "<style scoped>\n",
       "    .dataframe tbody tr th:only-of-type {\n",
       "        vertical-align: middle;\n",
       "    }\n",
       "\n",
       "    .dataframe tbody tr th {\n",
       "        vertical-align: top;\n",
       "    }\n",
       "\n",
       "    .dataframe thead th {\n",
       "        text-align: right;\n",
       "    }\n",
       "</style>\n",
       "<table border=\"1\" class=\"dataframe\">\n",
       "  <thead>\n",
       "    <tr style=\"text-align: right;\">\n",
       "      <th></th>\n",
       "      <th>0</th>\n",
       "      <th>1</th>\n",
       "      <th>2</th>\n",
       "      <th>3</th>\n",
       "      <th>4</th>\n",
       "      <th>5</th>\n",
       "      <th>6</th>\n",
       "      <th>7</th>\n",
       "      <th>8</th>\n",
       "      <th>9</th>\n",
       "      <th>...</th>\n",
       "      <th>178</th>\n",
       "      <th>179</th>\n",
       "      <th>180</th>\n",
       "      <th>181</th>\n",
       "      <th>182</th>\n",
       "      <th>183</th>\n",
       "      <th>184</th>\n",
       "      <th>185</th>\n",
       "      <th>186</th>\n",
       "      <th>187</th>\n",
       "    </tr>\n",
       "  </thead>\n",
       "  <tbody>\n",
       "    <tr>\n",
       "      <th>0</th>\n",
       "      <td>1.000000</td>\n",
       "      <td>0.900324</td>\n",
       "      <td>0.358590</td>\n",
       "      <td>0.051459</td>\n",
       "      <td>0.046596</td>\n",
       "      <td>0.126823</td>\n",
       "      <td>0.133306</td>\n",
       "      <td>0.119125</td>\n",
       "      <td>0.110616</td>\n",
       "      <td>0.113047</td>\n",
       "      <td>...</td>\n",
       "      <td>0.0</td>\n",
       "      <td>0.0</td>\n",
       "      <td>0.0</td>\n",
       "      <td>0.0</td>\n",
       "      <td>0.0</td>\n",
       "      <td>0.0</td>\n",
       "      <td>0.0</td>\n",
       "      <td>0.0</td>\n",
       "      <td>0.0</td>\n",
       "      <td>0.0</td>\n",
       "    </tr>\n",
       "    <tr>\n",
       "      <th>1</th>\n",
       "      <td>1.000000</td>\n",
       "      <td>0.794681</td>\n",
       "      <td>0.375387</td>\n",
       "      <td>0.116883</td>\n",
       "      <td>0.000000</td>\n",
       "      <td>0.171923</td>\n",
       "      <td>0.283859</td>\n",
       "      <td>0.293754</td>\n",
       "      <td>0.325912</td>\n",
       "      <td>0.345083</td>\n",
       "      <td>...</td>\n",
       "      <td>0.0</td>\n",
       "      <td>0.0</td>\n",
       "      <td>0.0</td>\n",
       "      <td>0.0</td>\n",
       "      <td>0.0</td>\n",
       "      <td>0.0</td>\n",
       "      <td>0.0</td>\n",
       "      <td>0.0</td>\n",
       "      <td>0.0</td>\n",
       "      <td>0.0</td>\n",
       "    </tr>\n",
       "    <tr>\n",
       "      <th>2</th>\n",
       "      <td>0.909029</td>\n",
       "      <td>0.791482</td>\n",
       "      <td>0.423169</td>\n",
       "      <td>0.186712</td>\n",
       "      <td>0.000000</td>\n",
       "      <td>0.007836</td>\n",
       "      <td>0.063032</td>\n",
       "      <td>0.077002</td>\n",
       "      <td>0.074957</td>\n",
       "      <td>0.077342</td>\n",
       "      <td>...</td>\n",
       "      <td>0.0</td>\n",
       "      <td>0.0</td>\n",
       "      <td>0.0</td>\n",
       "      <td>0.0</td>\n",
       "      <td>0.0</td>\n",
       "      <td>0.0</td>\n",
       "      <td>0.0</td>\n",
       "      <td>0.0</td>\n",
       "      <td>0.0</td>\n",
       "      <td>0.0</td>\n",
       "    </tr>\n",
       "    <tr>\n",
       "      <th>3</th>\n",
       "      <td>1.000000</td>\n",
       "      <td>0.478893</td>\n",
       "      <td>0.056760</td>\n",
       "      <td>0.064176</td>\n",
       "      <td>0.081289</td>\n",
       "      <td>0.072732</td>\n",
       "      <td>0.055619</td>\n",
       "      <td>0.048774</td>\n",
       "      <td>0.054478</td>\n",
       "      <td>0.041643</td>\n",
       "      <td>...</td>\n",
       "      <td>0.0</td>\n",
       "      <td>0.0</td>\n",
       "      <td>0.0</td>\n",
       "      <td>0.0</td>\n",
       "      <td>0.0</td>\n",
       "      <td>0.0</td>\n",
       "      <td>0.0</td>\n",
       "      <td>0.0</td>\n",
       "      <td>0.0</td>\n",
       "      <td>0.0</td>\n",
       "    </tr>\n",
       "    <tr>\n",
       "      <th>4</th>\n",
       "      <td>1.000000</td>\n",
       "      <td>0.867238</td>\n",
       "      <td>0.201360</td>\n",
       "      <td>0.099349</td>\n",
       "      <td>0.141336</td>\n",
       "      <td>0.120934</td>\n",
       "      <td>0.108516</td>\n",
       "      <td>0.096393</td>\n",
       "      <td>0.093436</td>\n",
       "      <td>0.100828</td>\n",
       "      <td>...</td>\n",
       "      <td>0.0</td>\n",
       "      <td>0.0</td>\n",
       "      <td>0.0</td>\n",
       "      <td>0.0</td>\n",
       "      <td>0.0</td>\n",
       "      <td>0.0</td>\n",
       "      <td>0.0</td>\n",
       "      <td>0.0</td>\n",
       "      <td>0.0</td>\n",
       "      <td>0.0</td>\n",
       "    </tr>\n",
       "  </tbody>\n",
       "</table>\n",
       "<p>5 rows × 188 columns</p>\n",
       "</div>"
      ],
      "text/plain": [
       "        0         1         2         3         4         5         6    \\\n",
       "0  1.000000  0.900324  0.358590  0.051459  0.046596  0.126823  0.133306   \n",
       "1  1.000000  0.794681  0.375387  0.116883  0.000000  0.171923  0.283859   \n",
       "2  0.909029  0.791482  0.423169  0.186712  0.000000  0.007836  0.063032   \n",
       "3  1.000000  0.478893  0.056760  0.064176  0.081289  0.072732  0.055619   \n",
       "4  1.000000  0.867238  0.201360  0.099349  0.141336  0.120934  0.108516   \n",
       "\n",
       "        7         8         9    ...  178  179  180  181  182  183  184  185  \\\n",
       "0  0.119125  0.110616  0.113047  ...  0.0  0.0  0.0  0.0  0.0  0.0  0.0  0.0   \n",
       "1  0.293754  0.325912  0.345083  ...  0.0  0.0  0.0  0.0  0.0  0.0  0.0  0.0   \n",
       "2  0.077002  0.074957  0.077342  ...  0.0  0.0  0.0  0.0  0.0  0.0  0.0  0.0   \n",
       "3  0.048774  0.054478  0.041643  ...  0.0  0.0  0.0  0.0  0.0  0.0  0.0  0.0   \n",
       "4  0.096393  0.093436  0.100828  ...  0.0  0.0  0.0  0.0  0.0  0.0  0.0  0.0   \n",
       "\n",
       "   186  187  \n",
       "0  0.0  0.0  \n",
       "1  0.0  0.0  \n",
       "2  0.0  0.0  \n",
       "3  0.0  0.0  \n",
       "4  0.0  0.0  \n",
       "\n",
       "[5 rows x 188 columns]"
      ]
     },
     "execution_count": 3,
     "metadata": {},
     "output_type": "execute_result"
    }
   ],
   "source": [
    "print(f\"Normal dataset size is {df_normal.shape}\")\n",
    "df_normal.head()"
   ]
  },
  {
   "cell_type": "code",
   "execution_count": 4,
   "metadata": {},
   "outputs": [
    {
     "name": "stdout",
     "output_type": "stream",
     "text": [
      "Abnormal dataset size is (10506, 188)\n"
     ]
    },
    {
     "data": {
      "text/html": [
       "<div>\n",
       "<style scoped>\n",
       "    .dataframe tbody tr th:only-of-type {\n",
       "        vertical-align: middle;\n",
       "    }\n",
       "\n",
       "    .dataframe tbody tr th {\n",
       "        vertical-align: top;\n",
       "    }\n",
       "\n",
       "    .dataframe thead th {\n",
       "        text-align: right;\n",
       "    }\n",
       "</style>\n",
       "<table border=\"1\" class=\"dataframe\">\n",
       "  <thead>\n",
       "    <tr style=\"text-align: right;\">\n",
       "      <th></th>\n",
       "      <th>0</th>\n",
       "      <th>1</th>\n",
       "      <th>2</th>\n",
       "      <th>3</th>\n",
       "      <th>4</th>\n",
       "      <th>5</th>\n",
       "      <th>6</th>\n",
       "      <th>7</th>\n",
       "      <th>8</th>\n",
       "      <th>9</th>\n",
       "      <th>...</th>\n",
       "      <th>178</th>\n",
       "      <th>179</th>\n",
       "      <th>180</th>\n",
       "      <th>181</th>\n",
       "      <th>182</th>\n",
       "      <th>183</th>\n",
       "      <th>184</th>\n",
       "      <th>185</th>\n",
       "      <th>186</th>\n",
       "      <th>187</th>\n",
       "    </tr>\n",
       "  </thead>\n",
       "  <tbody>\n",
       "    <tr>\n",
       "      <th>0</th>\n",
       "      <td>0.932233</td>\n",
       "      <td>0.869679</td>\n",
       "      <td>0.886186</td>\n",
       "      <td>0.929626</td>\n",
       "      <td>0.908775</td>\n",
       "      <td>0.933970</td>\n",
       "      <td>0.801043</td>\n",
       "      <td>0.749783</td>\n",
       "      <td>0.687229</td>\n",
       "      <td>0.635100</td>\n",
       "      <td>...</td>\n",
       "      <td>0.0</td>\n",
       "      <td>0.0</td>\n",
       "      <td>0.0</td>\n",
       "      <td>0.0</td>\n",
       "      <td>0.0</td>\n",
       "      <td>0.0</td>\n",
       "      <td>0.0</td>\n",
       "      <td>0.0</td>\n",
       "      <td>0.0</td>\n",
       "      <td>1.0</td>\n",
       "    </tr>\n",
       "    <tr>\n",
       "      <th>1</th>\n",
       "      <td>1.000000</td>\n",
       "      <td>0.606941</td>\n",
       "      <td>0.384181</td>\n",
       "      <td>0.254237</td>\n",
       "      <td>0.223567</td>\n",
       "      <td>0.276836</td>\n",
       "      <td>0.253430</td>\n",
       "      <td>0.184826</td>\n",
       "      <td>0.153349</td>\n",
       "      <td>0.121872</td>\n",
       "      <td>...</td>\n",
       "      <td>0.0</td>\n",
       "      <td>0.0</td>\n",
       "      <td>0.0</td>\n",
       "      <td>0.0</td>\n",
       "      <td>0.0</td>\n",
       "      <td>0.0</td>\n",
       "      <td>0.0</td>\n",
       "      <td>0.0</td>\n",
       "      <td>0.0</td>\n",
       "      <td>1.0</td>\n",
       "    </tr>\n",
       "    <tr>\n",
       "      <th>2</th>\n",
       "      <td>1.000000</td>\n",
       "      <td>0.951613</td>\n",
       "      <td>0.923963</td>\n",
       "      <td>0.853303</td>\n",
       "      <td>0.791859</td>\n",
       "      <td>0.734255</td>\n",
       "      <td>0.672043</td>\n",
       "      <td>0.685100</td>\n",
       "      <td>0.670507</td>\n",
       "      <td>0.667435</td>\n",
       "      <td>...</td>\n",
       "      <td>0.0</td>\n",
       "      <td>0.0</td>\n",
       "      <td>0.0</td>\n",
       "      <td>0.0</td>\n",
       "      <td>0.0</td>\n",
       "      <td>0.0</td>\n",
       "      <td>0.0</td>\n",
       "      <td>0.0</td>\n",
       "      <td>0.0</td>\n",
       "      <td>1.0</td>\n",
       "    </tr>\n",
       "    <tr>\n",
       "      <th>3</th>\n",
       "      <td>0.977819</td>\n",
       "      <td>0.899261</td>\n",
       "      <td>0.230129</td>\n",
       "      <td>0.032348</td>\n",
       "      <td>0.142329</td>\n",
       "      <td>0.223660</td>\n",
       "      <td>0.328096</td>\n",
       "      <td>0.367837</td>\n",
       "      <td>0.381701</td>\n",
       "      <td>0.389094</td>\n",
       "      <td>...</td>\n",
       "      <td>0.0</td>\n",
       "      <td>0.0</td>\n",
       "      <td>0.0</td>\n",
       "      <td>0.0</td>\n",
       "      <td>0.0</td>\n",
       "      <td>0.0</td>\n",
       "      <td>0.0</td>\n",
       "      <td>0.0</td>\n",
       "      <td>0.0</td>\n",
       "      <td>1.0</td>\n",
       "    </tr>\n",
       "    <tr>\n",
       "      <th>4</th>\n",
       "      <td>0.935618</td>\n",
       "      <td>0.801661</td>\n",
       "      <td>0.805815</td>\n",
       "      <td>1.000000</td>\n",
       "      <td>0.722741</td>\n",
       "      <td>0.480789</td>\n",
       "      <td>0.454829</td>\n",
       "      <td>0.319834</td>\n",
       "      <td>0.266874</td>\n",
       "      <td>0.308411</td>\n",
       "      <td>...</td>\n",
       "      <td>0.0</td>\n",
       "      <td>0.0</td>\n",
       "      <td>0.0</td>\n",
       "      <td>0.0</td>\n",
       "      <td>0.0</td>\n",
       "      <td>0.0</td>\n",
       "      <td>0.0</td>\n",
       "      <td>0.0</td>\n",
       "      <td>0.0</td>\n",
       "      <td>1.0</td>\n",
       "    </tr>\n",
       "  </tbody>\n",
       "</table>\n",
       "<p>5 rows × 188 columns</p>\n",
       "</div>"
      ],
      "text/plain": [
       "        0         1         2         3         4         5         6    \\\n",
       "0  0.932233  0.869679  0.886186  0.929626  0.908775  0.933970  0.801043   \n",
       "1  1.000000  0.606941  0.384181  0.254237  0.223567  0.276836  0.253430   \n",
       "2  1.000000  0.951613  0.923963  0.853303  0.791859  0.734255  0.672043   \n",
       "3  0.977819  0.899261  0.230129  0.032348  0.142329  0.223660  0.328096   \n",
       "4  0.935618  0.801661  0.805815  1.000000  0.722741  0.480789  0.454829   \n",
       "\n",
       "        7         8         9    ...  178  179  180  181  182  183  184  185  \\\n",
       "0  0.749783  0.687229  0.635100  ...  0.0  0.0  0.0  0.0  0.0  0.0  0.0  0.0   \n",
       "1  0.184826  0.153349  0.121872  ...  0.0  0.0  0.0  0.0  0.0  0.0  0.0  0.0   \n",
       "2  0.685100  0.670507  0.667435  ...  0.0  0.0  0.0  0.0  0.0  0.0  0.0  0.0   \n",
       "3  0.367837  0.381701  0.389094  ...  0.0  0.0  0.0  0.0  0.0  0.0  0.0  0.0   \n",
       "4  0.319834  0.266874  0.308411  ...  0.0  0.0  0.0  0.0  0.0  0.0  0.0  0.0   \n",
       "\n",
       "   186  187  \n",
       "0  0.0  1.0  \n",
       "1  0.0  1.0  \n",
       "2  0.0  1.0  \n",
       "3  0.0  1.0  \n",
       "4  0.0  1.0  \n",
       "\n",
       "[5 rows x 188 columns]"
      ]
     },
     "execution_count": 4,
     "metadata": {},
     "output_type": "execute_result"
    }
   ],
   "source": [
    "print(f'Abnormal dataset size is {df_abnormal.shape}')\n",
    "df_abnormal.head()"
   ]
  },
  {
   "cell_type": "code",
   "execution_count": 5,
   "metadata": {},
   "outputs": [
    {
     "name": "stdout",
     "output_type": "stream",
     "text": [
      "Every element in the last column  of df_normal is equal to 0: True\n",
      "Every element in the last column  of df_abnormal is equal to 1: True\n"
     ]
    }
   ],
   "source": [
    "#Checking if last column is for classification:\n",
    "print(f\"Every element in the last column  of df_normal is equal to 0: {df_normal[187].sum() == 0}\")\n",
    "print(f\"Every element in the last column  of df_abnormal is equal to 1: {df_abnormal[187].sum() == df_abnormal.shape[0]}\")"
   ]
  },
  {
   "cell_type": "code",
   "execution_count": null,
   "metadata": {},
   "outputs": [],
   "source": []
  },
  {
   "cell_type": "code",
   "execution_count": 6,
   "metadata": {},
   "outputs": [
    {
     "name": "stdout",
     "output_type": "stream",
     "text": [
      "(14552, 188)\n"
     ]
    }
   ],
   "source": [
    "df = pd.concat([df_normal, df_abnormal])\n",
    "print(df.shape)"
   ]
  },
  {
   "cell_type": "code",
   "execution_count": 7,
   "metadata": {},
   "outputs": [
    {
     "name": "stdout",
     "output_type": "stream",
     "text": [
      "The feature space is of shape: (14552, 187)\n",
      "The target is of shape: (14552,)\n"
     ]
    }
   ],
   "source": [
    "# Separating features and target \n",
    "\n",
    "X = np.array(df[df.columns[:-1]])\n",
    "print(f'The feature space is of shape: {X.shape}')\n",
    "Y= np.array(df[187])\n",
    "print(f'The target is of shape: {Y.shape}')"
   ]
  },
  {
   "cell_type": "code",
   "execution_count": 40,
   "metadata": {},
   "outputs": [
    {
     "name": "stdout",
     "output_type": "stream",
     "text": [
      "3\n",
      "12\n",
      "15\n",
      "4\n"
     ]
    }
   ],
   "source": [
    "z = [12,13,15]\n",
    "print(len(z))\n",
    "print(z[0])\n",
    "print(z[-1])\n",
    "print(z[-1]- z[0] + 1)"
   ]
  },
  {
   "cell_type": "code",
   "execution_count": 8,
   "metadata": {},
   "outputs": [],
   "source": [
    "def findFirstIndexOfPadding(a):\n",
    "    \"\"\"Input: a - an np array of shape (n,)\n",
    "       Output: theIndex - the index where the zero padding of \n",
    "               the np array a starts. If the array a does not end in 0 \n",
    "               then return value is None.\n",
    "       \"\"\"\n",
    "    zeroLoc = np.where(a ==0)[0]\n",
    "    if (zeroLoc[-1] +1) != len(a):\n",
    "        theIndex = None\n",
    "    else:\n",
    "        theIndex = -2\n",
    "        while theIndex == -2:\n",
    "            if (zeroLoc[-1] - zeroLoc[0] + 1) == len(zeroLoc):\n",
    "                theIndex = zeroLoc[0]\n",
    "            elif len(zeroLoc) == 2:\n",
    "                theIndex = zeroLoc[-1]\n",
    "            else:\n",
    "                zeroLoc = zeroLoc[1:]       \n",
    "    return theIndex"
   ]
  },
  {
   "cell_type": "code",
   "execution_count": 9,
   "metadata": {},
   "outputs": [],
   "source": [
    "#Finding smallest first index of padding:\n",
    "firstIndicesOfPadding = [findFirstIndexOfPadding(row) for row in X if findFirstIndexOfPadding(row) is not None ]\n"
   ]
  },
  {
   "cell_type": "code",
   "execution_count": 10,
   "metadata": {},
   "outputs": [],
   "source": [
    "firstIndicesOfPadding.sort()\n",
    "# firstIndicesOfPadding"
   ]
  },
  {
   "cell_type": "code",
   "execution_count": 11,
   "metadata": {},
   "outputs": [
    {
     "name": "stdout",
     "output_type": "stream",
     "text": [
      "There were 14552 rows in X that were padded.\n",
      "There are 14552 rows in total in X.\n"
     ]
    }
   ],
   "source": [
    "print(f'There were {len(firstIndicesOfPadding)} rows in X that were padded.')\n",
    "print(f'There are {X.shape[0]} rows in total in X.')"
   ]
  },
  {
   "cell_type": "code",
   "execution_count": 12,
   "metadata": {
    "scrolled": true
   },
   "outputs": [
    {
     "data": {
      "image/png": "[encoded data removed]",
      "text/plain": [
       "<Figure size 432x288 with 1 Axes>"
      ]
     },
     "metadata": {
      "needs_background": "light"
     },
     "output_type": "display_data"
    }
   ],
   "source": [
    "paddingLengths = [X.shape[1] - n for n in firstIndicesOfPadding]\n",
    "paddingLengths[-10:]\n",
    "import matplotlib.pyplot as plt\n",
    "plt.hist(paddingLengths)\n",
    "plt.show()"
   ]
  },
  {
   "cell_type": "code",
   "execution_count": 13,
   "metadata": {},
   "outputs": [
    {
     "data": {
      "image/png": "[encoded data removed]",
      "text/plain": [
       "<Figure size 432x288 with 1 Axes>"
      ]
     },
     "metadata": {
      "needs_background": "light"
     },
     "output_type": "display_data"
    }
   ],
   "source": [
    "X_abnormal = np.array(df_abnormal[df.columns[:-1]])\n",
    "X_abnormal.shape\n",
    "firstZeroIndex_abnormal = [findFirstIndexOfPadding(row) for row in X_abnormal if findFirstIndexOfPadding(row) is not None ]\n",
    "firstZeroIndex_abnormal.sort()\n",
    "paddingLengths_abnormal = [X_abnormal.shape[1] - n for n in firstZeroIndex_abnormal]\n",
    "import matplotlib.pyplot as plt\n",
    "plt.hist(paddingLengths_abnormal)\n",
    "plt.title(\"Histogram of Padding Length for the Abnormal Heartrate Dataset\")\n",
    "plt.show()"
   ]
  },
  {
   "cell_type": "code",
   "execution_count": 14,
   "metadata": {},
   "outputs": [
    {
     "data": {
      "image/png": "[encoded data removed]",
      "text/plain": [
       "<Figure size 432x288 with 1 Axes>"
      ]
     },
     "metadata": {
      "needs_background": "light"
     },
     "output_type": "display_data"
    }
   ],
   "source": [
    "X_normal = np.array(df_normal[df.columns[:-1]])\n",
    "X_normal.shape\n",
    "firstZeroIndex_normal = [findFirstIndexOfPadding(row) for row in X_normal if findFirstIndexOfPadding(row) is not None ]\n",
    "firstZeroIndex_normal.sort()\n",
    "paddingLengths_normal = [X_normal.shape[1] - n for n in firstZeroIndex_normal]\n",
    "import matplotlib.pyplot as plt\n",
    "plt.hist(paddingLengths_normal)\n",
    "plt.title(\"Histogram of Padding Length for the Normal Heartrate Dataset\")\n",
    "plt.show()"
   ]
  },
  {
   "cell_type": "code",
   "execution_count": 16,
   "metadata": {},
   "outputs": [
    {
     "name": "stdout",
     "output_type": "stream",
     "text": [
      "The number of rows with padding length shorter than 86 is 10822.\n",
      "The fraction of abnormal rows out of all the rows with padding length shorter than 86 is 0.4894172622319956\n",
      "The fraction of normal rows out of all the rows with padding length shorter than 86 is 0.5105827377680044\n"
     ]
    }
   ],
   "source": [
    "#finding indices of rows with padding shorter than paddingLength\n",
    "paddingLength = 86\n",
    "cutOffIndex  = 187 - paddingLength\n",
    "cutOffIndex\n",
    "\n",
    "rowIndices= [i for i in range(X.shape[0]) \\\n",
    "             if (findFirstIndexOfPadding(X[i,:]) is not None ) & (findFirstIndexOfPadding(X[i,:]) > cutOffIndex)]\n",
    "print(f\"The number of rows with padding length shorter than {paddingLength} is {len(rowIndices)}.\")\n",
    "print(f\"The fraction of abnormal rows out of all the rows with padding length shorter than {paddingLength} is {np.sum(Y[rowIndices])/Y.shape[0]}\")\n",
    "print(f\"The fraction of normal rows out of all the rows with padding length shorter than {paddingLength} is {(Y.shape[0]- np.sum(Y[rowIndices]))/Y.shape[0]}\")"
   ]
  },
  {
   "cell_type": "code",
   "execution_count": 17,
   "metadata": {},
   "outputs": [
    {
     "name": "stdout",
     "output_type": "stream",
     "text": [
      "(10822, 187)\n",
      "(10822,)\n"
     ]
    }
   ],
   "source": [
    "X_86 = X[rowIndices,:]\n",
    "Y_86 = Y[rowIndices]\n",
    "print(X_86.shape)\n",
    "print(Y_86.shape)"
   ]
  },
  {
   "cell_type": "markdown",
   "metadata": {},
   "source": [
    "## Using reduced length rows to limit the padding "
   ]
  },
  {
   "cell_type": "code",
   "execution_count": 18,
   "metadata": {},
   "outputs": [],
   "source": [
    "from sklearn.model_selection import train_test_split\n",
    "# Set the random state to 42\n",
    "Xtrain, Xtest, ytrain, ytest =train_test_split(X_86, Y_86, test_size=0.2, random_state=42)"
   ]
  },
  {
   "cell_type": "code",
   "execution_count": 19,
   "metadata": {},
   "outputs": [
    {
     "data": {
      "text/plain": [
       "SVC(class_weight='balanced')"
      ]
     },
     "execution_count": 19,
     "metadata": {},
     "output_type": "execute_result"
    }
   ],
   "source": [
    "from sklearn.model_selection import GridSearchCV\n",
    "from sklearn.svm import SVC\n",
    "# param_grid = {'svc__C': [1, 5, 10, 50],\n",
    "#               'svc__gamma': [0.0001, 0.0005, 0.001, 0.005]}\n",
    "model = SVC(kernel='rbf', class_weight = \"balanced\")\n",
    "model.fit(Xtrain, ytrain)"
   ]
  },
  {
   "cell_type": "code",
   "execution_count": 20,
   "metadata": {},
   "outputs": [],
   "source": [
    "yfit = model.predict(Xtest)"
   ]
  },
  {
   "cell_type": "code",
   "execution_count": 21,
   "metadata": {},
   "outputs": [
    {
     "name": "stdout",
     "output_type": "stream",
     "text": [
      "              precision    recall  f1-score   support\n",
      "\n",
      "         0.0       0.74      0.93      0.82       751\n",
      "         1.0       0.96      0.83      0.89      1414\n",
      "\n",
      "    accuracy                           0.86      2165\n",
      "   macro avg       0.85      0.88      0.85      2165\n",
      "weighted avg       0.88      0.86      0.86      2165\n",
      "\n"
     ]
    }
   ],
   "source": [
    "from sklearn.metrics import classification_report\n",
    "print(classification_report(ytest, yfit))"
   ]
  },
  {
   "cell_type": "code",
   "execution_count": 22,
   "metadata": {},
   "outputs": [],
   "source": [
    "from sklearn.metrics import confusion_matrix\n",
    "from sklearn.metrics import accuracy_score as accuracy\n",
    "from sklearn.metrics import recall_score as recall\n",
    "from sklearn.metrics import precision_score as precision\n",
    "from sklearn.metrics import f1_score"
   ]
  },
  {
   "cell_type": "code",
   "execution_count": 23,
   "metadata": {},
   "outputs": [
    {
     "name": "stdout",
     "output_type": "stream",
     "text": [
      "Accuracy = 0.8614318706697459, Precision = 0.955810147299509, Recall = 0.826025459688826, F1-score = 0.8861911987860395\n",
      "Confusion Matrix is:\n",
      "[[ 697   54]\n",
      " [ 246 1168]]\n"
     ]
    }
   ],
   "source": [
    "cm= confusion_matrix(ytest,yfit )\n",
    "acc  = accuracy(ytest,yfit)\n",
    "rec  = recall(ytest,yfit )\n",
    "prec = precision(ytest,yfit )\n",
    "f1   = f1_score(ytest,yfit )\n",
    "print(f'Accuracy = {acc}, Precision = {prec}, Recall = {rec}, F1-score = {f1}')\n",
    "print('Confusion Matrix is:')\n",
    "print(cm)"
   ]
  },
  {
   "cell_type": "markdown",
   "metadata": {},
   "source": [
    "##  Using entire length of rows\n"
   ]
  },
  {
   "cell_type": "code",
   "execution_count": 24,
   "metadata": {},
   "outputs": [],
   "source": [
    "def svm_model(X,Y):\n",
    "    Xtrain, Xtest, ytrain, ytest =train_test_split(X, Y, test_size=0.2, random_state=42)\n",
    "    model = SVC(kernel='rbf', class_weight = \"balanced\")\n",
    "    model.fit(Xtrain, ytrain)\n",
    "    yfit = model.predict(Xtest)\n",
    "    #Printing results\n",
    "    print(classification_report(ytest, yfit))\n",
    "    cm= confusion_matrix(ytest,yfit )\n",
    "    acc  = accuracy(ytest,yfit)\n",
    "    rec  = recall(ytest,yfit )\n",
    "    prec = precision(ytest,yfit )\n",
    "    f1   = f1_score(ytest,yfit )\n",
    "    print(f'Accuracy = {acc}, Precision = {prec}, Recall = {rec}, F1-score = {f1}')\n",
    "    print('Confusion Matrix is:')\n",
    "    print(cm)\n",
    "    return model"
   ]
  },
  {
   "cell_type": "code",
   "execution_count": 26,
   "metadata": {},
   "outputs": [
    {
     "name": "stdout",
     "output_type": "stream",
     "text": [
      "              precision    recall  f1-score   support\n",
      "\n",
      "         0.0       0.72      0.94      0.81       834\n",
      "         1.0       0.97      0.85      0.91      2077\n",
      "\n",
      "    accuracy                           0.88      2911\n",
      "   macro avg       0.84      0.90      0.86      2911\n",
      "weighted avg       0.90      0.88      0.88      2911\n",
      "\n",
      "Accuracy = 0.8766746822397802, Precision = 0.971978021978022, Recall = 0.8517091959557054, F1-score = 0.9078778547600718\n",
      "Confusion Matrix is:\n",
      "[[ 783   51]\n",
      " [ 308 1769]]\n"
     ]
    }
   ],
   "source": [
    "entire_model = svm_model(X,Y)"
   ]
  },
  {
   "cell_type": "markdown",
   "metadata": {},
   "source": [
    "## Conclusion Concerning Limiting the Padding\n",
    "Reducing the max padding length by removing rows with padding longer than the max = 86, did not improve the results "
   ]
  },
  {
   "cell_type": "markdown",
   "metadata": {},
   "source": [
    "## Varying the gamma value to improve the model\n",
    "\n",
    "Keeping the dataset as is, we will run a grid search to find the optimal parameter. We will use the entire data set X for training and testing.    "
   ]
  },
  {
   "cell_type": "code",
   "execution_count": 50,
   "metadata": {},
   "outputs": [],
   "source": [
    "Xtrain, Xtest, ytrain, ytest =train_test_split(X, Y, test_size=0.2, random_state=42)\n"
   ]
  },
  {
   "cell_type": "code",
   "execution_count": 62,
   "metadata": {},
   "outputs": [],
   "source": [
    "def svm_withGridSearch(Xtrain, Xtest, ytrain, ytest, param_grid, kernel = 'rbf'):\n",
    "    \"\"\"\n",
    "    Input:\n",
    "    Xtrain, Xtest, ytrain, ytest  -- training set and test set \n",
    "    param_grid -- parameters for the svm model\n",
    "    kernel -- the kernel to be used for the svm model, default = 'rbf'\n",
    "    Output:\n",
    "    Model -- the model created using the best parameters tested by the grid search\n",
    "    \"\"\"\n",
    "    svc = SVC(class_weight = \"balanced\")\n",
    "    grid =  GridSearchCV(svc, param_grid)\n",
    "    print(svc.get_params().keys())\n",
    "    clf = grid.fit(Xtrain, ytrain)\n",
    "    print(clf.best_estimator_)\n",
    "    print(clf.best_params_)\n",
    "    print(clf.get_params())\n",
    "    model = clf.best_estimator_\n",
    "    yfit = model.predict(Xtest)\n",
    "    print(classification_report(ytest, yfit))\n",
    "    cm= confusion_matrix(ytest,yfit )\n",
    "    acc  = accuracy(ytest,yfit)\n",
    "    rec  = recall(ytest,yfit )\n",
    "    prec = precision(ytest,yfit )\n",
    "    f1   = f1_score(ytest,yfit )\n",
    "    print(f'Accuracy = {acc}, Precision = {prec}, Recall = {rec}, F1-score = {f1}')\n",
    "    print('Confusion Matrix is:')\n",
    "    print(cm)\n",
    "    return model"
   ]
  },
  {
   "cell_type": "code",
   "execution_count": 49,
   "metadata": {},
   "outputs": [
    {
     "name": "stdout",
     "output_type": "stream",
     "text": [
      "dict_keys(['C', 'break_ties', 'cache_size', 'class_weight', 'coef0', 'decision_function_shape', 'degree', 'gamma', 'kernel', 'max_iter', 'probability', 'random_state', 'shrinking', 'tol', 'verbose'])\n",
      "SVC(gamma=0.005)\n",
      "{'gamma': 0.005}\n",
      "{'cv': None, 'error_score': nan, 'estimator__C': 1.0, 'estimator__break_ties': False, 'estimator__cache_size': 200, 'estimator__class_weight': None, 'estimator__coef0': 0.0, 'estimator__decision_function_shape': 'ovr', 'estimator__degree': 3, 'estimator__gamma': 'scale', 'estimator__kernel': 'rbf', 'estimator__max_iter': -1, 'estimator__probability': False, 'estimator__random_state': None, 'estimator__shrinking': True, 'estimator__tol': 0.001, 'estimator__verbose': False, 'estimator': SVC(), 'iid': 'deprecated', 'n_jobs': None, 'param_grid': {'gamma': [0.0001, 0.0005, 0.001, 0.005]}, 'pre_dispatch': '2*n_jobs', 'refit': True, 'return_train_score': False, 'scoring': None, 'verbose': 0}\n",
      "              precision    recall  f1-score   support\n",
      "\n",
      "         0.0       0.73      0.47      0.57       834\n",
      "         1.0       0.81      0.93      0.87      2077\n",
      "\n",
      "    accuracy                           0.80      2911\n",
      "   macro avg       0.77      0.70      0.72      2911\n",
      "weighted avg       0.79      0.80      0.78      2911\n",
      "\n",
      "Accuracy = 0.7983510821023703, Precision = 0.8138163437236732, Recall = 0.9301877708233028, F1-score = 0.8681195237025389\n",
      "Confusion Matrix is:\n",
      "[[ 392  442]\n",
      " [ 145 1932]]\n"
     ]
    },
    {
     "data": {
      "text/plain": [
       "SVC(gamma=0.005)"
      ]
     },
     "execution_count": 49,
     "metadata": {},
     "output_type": "execute_result"
    }
   ],
   "source": [
    "\n",
    "param_grid = {'gamma': [0.0001, 0.0005, 0.001, 0.005]}\n",
    "svm_withGridSearch(Xtrain, Xtest, ytrain, ytest, param_grid) #without using class_weight = \"balanced\""
   ]
  },
  {
   "cell_type": "code",
   "execution_count": 53,
   "metadata": {},
   "outputs": [
    {
     "name": "stdout",
     "output_type": "stream",
     "text": [
      "dict_keys(['C', 'break_ties', 'cache_size', 'class_weight', 'coef0', 'decision_function_shape', 'degree', 'gamma', 'kernel', 'max_iter', 'probability', 'random_state', 'shrinking', 'tol', 'verbose'])\n",
      "SVC(gamma=0.0001, kernel='linear')\n",
      "{'gamma': 0.0001}\n",
      "{'cv': None, 'error_score': nan, 'estimator__C': 1.0, 'estimator__break_ties': False, 'estimator__cache_size': 200, 'estimator__class_weight': None, 'estimator__coef0': 0.0, 'estimator__decision_function_shape': 'ovr', 'estimator__degree': 3, 'estimator__gamma': 'scale', 'estimator__kernel': 'linear', 'estimator__max_iter': -1, 'estimator__probability': False, 'estimator__random_state': None, 'estimator__shrinking': True, 'estimator__tol': 0.001, 'estimator__verbose': False, 'estimator': SVC(kernel='linear'), 'iid': 'deprecated', 'n_jobs': None, 'param_grid': {'gamma': [0.0001, 0.0005, 0.001, 0.005]}, 'pre_dispatch': '2*n_jobs', 'refit': True, 'return_train_score': False, 'scoring': None, 'verbose': 0}\n",
      "              precision    recall  f1-score   support\n",
      "\n",
      "         0.0       0.75      0.60      0.66       834\n",
      "         1.0       0.85      0.92      0.88      2077\n",
      "\n",
      "    accuracy                           0.83      2911\n",
      "   macro avg       0.80      0.76      0.77      2911\n",
      "weighted avg       0.82      0.83      0.82      2911\n",
      "\n",
      "Accuracy = 0.8261765716248711, Precision = 0.8498886414253898, Recall = 0.9186326432354357, F1-score = 0.8829245719574271\n",
      "Confusion Matrix is:\n",
      "[[ 497  337]\n",
      " [ 169 1908]]\n"
     ]
    },
    {
     "data": {
      "text/plain": [
       "SVC(gamma=0.0001, kernel='linear')"
      ]
     },
     "execution_count": 53,
     "metadata": {},
     "output_type": "execute_result"
    }
   ],
   "source": [
    "svm_withGridSearch(Xtrain, Xtest, ytrain, ytest, param_grid, kernel = 'linear')"
   ]
  },
  {
   "cell_type": "code",
   "execution_count": 59,
   "metadata": {},
   "outputs": [],
   "source": [
    "param_grid = {'kernel' : ['linear', 'rbf'], 'gamma': [0.0001, 0.0005, 0.001, 0.005]}"
   ]
  },
  {
   "cell_type": "code",
   "execution_count": 60,
   "metadata": {},
   "outputs": [
    {
     "name": "stdout",
     "output_type": "stream",
     "text": [
      "dict_keys(['C', 'break_ties', 'cache_size', 'class_weight', 'coef0', 'decision_function_shape', 'degree', 'gamma', 'kernel', 'max_iter', 'probability', 'random_state', 'shrinking', 'tol', 'verbose'])\n",
      "SVC(class_weight='balanced', gamma=0.0001, kernel='linear')\n",
      "{'gamma': 0.0001, 'kernel': 'linear'}\n",
      "{'cv': None, 'error_score': nan, 'estimator__C': 1.0, 'estimator__break_ties': False, 'estimator__cache_size': 200, 'estimator__class_weight': 'balanced', 'estimator__coef0': 0.0, 'estimator__decision_function_shape': 'ovr', 'estimator__degree': 3, 'estimator__gamma': 'scale', 'estimator__kernel': 'rbf', 'estimator__max_iter': -1, 'estimator__probability': False, 'estimator__random_state': None, 'estimator__shrinking': True, 'estimator__tol': 0.001, 'estimator__verbose': False, 'estimator': SVC(class_weight='balanced'), 'iid': 'deprecated', 'n_jobs': None, 'param_grid': {'kernel': ['linear', 'rbf'], 'gamma': [0.0001, 0.0005, 0.001, 0.005]}, 'pre_dispatch': '2*n_jobs', 'refit': True, 'return_train_score': False, 'scoring': None, 'verbose': 0}\n",
      "              precision    recall  f1-score   support\n",
      "\n",
      "         0.0       0.60      0.87      0.71       834\n",
      "         1.0       0.94      0.77      0.85      2077\n",
      "\n",
      "    accuracy                           0.80      2911\n",
      "   macro avg       0.77      0.82      0.78      2911\n",
      "weighted avg       0.84      0.80      0.81      2911\n",
      "\n",
      "Accuracy = 0.8000687049124012, Precision = 0.9379027533684827, Recall = 0.7708233028406355, F1-score = 0.8461945031712473\n",
      "Confusion Matrix is:\n",
      "[[ 728  106]\n",
      " [ 476 1601]]\n"
     ]
    },
    {
     "data": {
      "text/plain": [
       "SVC(class_weight='balanced', gamma=0.0001, kernel='linear')"
      ]
     },
     "execution_count": 60,
     "metadata": {},
     "output_type": "execute_result"
    }
   ],
   "source": [
    "svm_withGridSearch(Xtrain, Xtest, ytrain, ytest, param_grid) # using class_weight = \"balanced\""
   ]
  },
  {
   "cell_type": "code",
   "execution_count": 63,
   "metadata": {},
   "outputs": [
    {
     "name": "stdout",
     "output_type": "stream",
     "text": [
      "dict_keys(['C', 'break_ties', 'cache_size', 'class_weight', 'coef0', 'decision_function_shape', 'degree', 'gamma', 'kernel', 'max_iter', 'probability', 'random_state', 'shrinking', 'tol', 'verbose'])\n",
      "SVC(class_weight='balanced', gamma=0.0001, kernel='linear')\n",
      "{'gamma': 0.0001, 'kernel': 'linear'}\n",
      "{'cv': None, 'error_score': nan, 'estimator__C': 1.0, 'estimator__break_ties': False, 'estimator__cache_size': 200, 'estimator__class_weight': 'balanced', 'estimator__coef0': 0.0, 'estimator__decision_function_shape': 'ovr', 'estimator__degree': 3, 'estimator__gamma': 'scale', 'estimator__kernel': 'rbf', 'estimator__max_iter': -1, 'estimator__probability': False, 'estimator__random_state': None, 'estimator__shrinking': True, 'estimator__tol': 0.001, 'estimator__verbose': False, 'estimator': SVC(class_weight='balanced'), 'iid': 'deprecated', 'n_jobs': None, 'param_grid': {'kernel': ['rbf', 'linear', 'poly', 'sigmoid'], 'gamma': [0.0001, 0.0005, 0.001, 0.005]}, 'pre_dispatch': '2*n_jobs', 'refit': True, 'return_train_score': False, 'scoring': None, 'verbose': 0}\n",
      "              precision    recall  f1-score   support\n",
      "\n",
      "         0.0       0.60      0.87      0.71       834\n",
      "         1.0       0.94      0.77      0.85      2077\n",
      "\n",
      "    accuracy                           0.80      2911\n",
      "   macro avg       0.77      0.82      0.78      2911\n",
      "weighted avg       0.84      0.80      0.81      2911\n",
      "\n",
      "Accuracy = 0.8000687049124012, Precision = 0.9379027533684827, Recall = 0.7708233028406355, F1-score = 0.8461945031712473\n",
      "Confusion Matrix is:\n",
      "[[ 728  106]\n",
      " [ 476 1601]]\n"
     ]
    },
    {
     "data": {
      "text/plain": [
       "SVC(class_weight='balanced', gamma=0.0001, kernel='linear')"
      ]
     },
     "execution_count": 63,
     "metadata": {},
     "output_type": "execute_result"
    }
   ],
   "source": [
    "param_grid = {'kernel' :  ['rbf', 'linear', 'poly', 'sigmoid'], 'gamma': [0.0001, 0.0005, 0.001, 0.005]}\n",
    "svm_withGridSearch(Xtrain, Xtest, ytrain, ytest, param_grid) # using class_weight = \"balanced\""
   ]
  },
  {
   "cell_type": "markdown",
   "metadata": {},
   "source": [
    "## Standardizing the heartrates before building the model\n"
   ]
  },
  {
   "cell_type": "code",
   "execution_count": 61,
   "metadata": {},
   "outputs": [
    {
     "name": "stdout",
     "output_type": "stream",
     "text": [
      "dict_keys(['C', 'break_ties', 'cache_size', 'class_weight', 'coef0', 'decision_function_shape', 'degree', 'gamma', 'kernel', 'max_iter', 'probability', 'random_state', 'shrinking', 'tol', 'verbose'])\n"
     ]
    }
   ],
   "source": [
    "g = SVC(kernel='linear')\n",
    "print(g.get_params().keys())"
   ]
  },
  {
   "cell_type": "code",
   "execution_count": 64,
   "metadata": {},
   "outputs": [],
   "source": [
    "from sklearn.pipeline import make_pipeline\n",
    "from sklearn.preprocessing import StandardScaler\n",
    "\n",
    "clf = make_pipeline(StandardScaler(), SVC())"
   ]
  },
  {
   "cell_type": "code",
   "execution_count": 69,
   "metadata": {},
   "outputs": [],
   "source": [
    "def svmStandardized_withGridSearch(Xtrain, Xtest, ytrain, ytest, param_grid):\n",
    "    \"\"\"\n",
    "    Input:\n",
    "    Xtrain, Xtest, ytrain, ytest  -- training set and test set \n",
    "    param_grid -- parameters for the svm model\n",
    "    kernel -- the kernel to be used for the svm model, default = 'rbf'\n",
    "    Output:\n",
    "    Model -- the model created using the best parameters tested by the grid search\n",
    "    \"\"\"\n",
    " \n",
    "    pipe = make_pipeline(StandardScaler(), SVC(class_weight = 'balanced'))\n",
    "    grid =  GridSearchCV(pipe, param_grid)\n",
    "    print(pipe.get_params().keys())\n",
    "    clf = grid.fit(Xtrain, ytrain)\n",
    "    print(clf.best_estimator_)\n",
    "    print(clf.best_params_)\n",
    "    print(clf.get_params())\n",
    "    model = clf.best_estimator_\n",
    "    yfit = model.predict(Xtest)\n",
    "    print(classification_report(ytest, yfit))\n",
    "    cm= confusion_matrix(ytest,yfit )\n",
    "    acc  = accuracy(ytest,yfit)\n",
    "    rec  = recall(ytest,yfit )\n",
    "    prec = precision(ytest,yfit )\n",
    "    f1   = f1_score(ytest,yfit )\n",
    "    print(f'Accuracy = {acc}, Precision = {prec}, Recall = {rec}, F1-score = {f1}')\n",
    "    print('Confusion Matrix is:')\n",
    "    print(cm)\n",
    "    return model"
   ]
  },
  {
   "cell_type": "code",
   "execution_count": 72,
   "metadata": {},
   "outputs": [],
   "source": [
    "param_grid = {'svc__kernel' : ['linear', 'rbf'], 'svc__gamma': [0.0001, 0.0005, 0.001, 0.005]}"
   ]
  },
  {
   "cell_type": "code",
   "execution_count": 73,
   "metadata": {},
   "outputs": [
    {
     "name": "stdout",
     "output_type": "stream",
     "text": [
      "dict_keys(['memory', 'steps', 'verbose', 'standardscaler', 'svc', 'standardscaler__copy', 'standardscaler__with_mean', 'standardscaler__with_std', 'svc__C', 'svc__break_ties', 'svc__cache_size', 'svc__class_weight', 'svc__coef0', 'svc__decision_function_shape', 'svc__degree', 'svc__gamma', 'svc__kernel', 'svc__max_iter', 'svc__probability', 'svc__random_state', 'svc__shrinking', 'svc__tol', 'svc__verbose'])\n",
      "Pipeline(steps=[('standardscaler', StandardScaler()),\n",
      "                ('svc', SVC(class_weight='balanced', gamma=0.005))])\n",
      "{'svc__gamma': 0.005, 'svc__kernel': 'rbf'}\n",
      "{'cv': None, 'error_score': nan, 'estimator__memory': None, 'estimator__steps': [('standardscaler', StandardScaler()), ('svc', SVC(class_weight='balanced'))], 'estimator__verbose': False, 'estimator__standardscaler': StandardScaler(), 'estimator__svc': SVC(class_weight='balanced'), 'estimator__standardscaler__copy': True, 'estimator__standardscaler__with_mean': True, 'estimator__standardscaler__with_std': True, 'estimator__svc__C': 1.0, 'estimator__svc__break_ties': False, 'estimator__svc__cache_size': 200, 'estimator__svc__class_weight': 'balanced', 'estimator__svc__coef0': 0.0, 'estimator__svc__decision_function_shape': 'ovr', 'estimator__svc__degree': 3, 'estimator__svc__gamma': 'scale', 'estimator__svc__kernel': 'rbf', 'estimator__svc__max_iter': -1, 'estimator__svc__probability': False, 'estimator__svc__random_state': None, 'estimator__svc__shrinking': True, 'estimator__svc__tol': 0.001, 'estimator__svc__verbose': False, 'estimator': Pipeline(steps=[('standardscaler', StandardScaler()),\n",
      "                ('svc', SVC(class_weight='balanced'))]), 'iid': 'deprecated', 'n_jobs': None, 'param_grid': {'svc__kernel': ['linear', 'rbf'], 'svc__gamma': [0.0001, 0.0005, 0.001, 0.005]}, 'pre_dispatch': '2*n_jobs', 'refit': True, 'return_train_score': False, 'scoring': None, 'verbose': 0}\n",
      "              precision    recall  f1-score   support\n",
      "\n",
      "         0.0       0.74      0.94      0.83       834\n",
      "         1.0       0.97      0.87      0.92      2077\n",
      "\n",
      "    accuracy                           0.89      2911\n",
      "   macro avg       0.86      0.90      0.87      2911\n",
      "weighted avg       0.91      0.89      0.89      2911\n",
      "\n",
      "Accuracy = 0.8890415664720027, Precision = 0.9730312837108953, Recall = 0.8685604236880116, F1-score = 0.917832612566777\n",
      "Confusion Matrix is:\n",
      "[[ 784   50]\n",
      " [ 273 1804]]\n"
     ]
    },
    {
     "data": {
      "text/plain": [
       "Pipeline(steps=[('standardscaler', StandardScaler()),\n",
       "                ('svc', SVC(class_weight='balanced', gamma=0.005))])"
      ]
     },
     "execution_count": 73,
     "metadata": {},
     "output_type": "execute_result"
    }
   ],
   "source": [
    "svmStandardized_withGridSearch(Xtrain, Xtest, ytrain, ytest, param_grid)"
   ]
  },
  {
   "cell_type": "markdown",
   "metadata": {},
   "source": [
    "## Rerunning the best model thus far and plotting some results"
   ]
  },
  {
   "cell_type": "code",
   "execution_count": 74,
   "metadata": {},
   "outputs": [
    {
     "data": {
      "text/plain": [
       "0.8890415664720027"
      ]
     },
     "execution_count": 74,
     "metadata": {},
     "output_type": "execute_result"
    }
   ],
   "source": [
    "gamma = 0.005\n",
    "kernel = 'rbf'\n",
    "pipe = make_pipeline(StandardScaler(), SVC(kernel = kernel, gamma = gamma, class_weight = 'balanced'))\n",
    "pipe.fit(Xtrain, ytrain) \n",
    "pipe.score(Xtest, ytest)\n"
   ]
  },
  {
   "cell_type": "code",
   "execution_count": 75,
   "metadata": {},
   "outputs": [],
   "source": [
    "yfit = pipe.predict(Xtest)"
   ]
  },
  {
   "cell_type": "code",
   "execution_count": 76,
   "metadata": {},
   "outputs": [
    {
     "name": "stdout",
     "output_type": "stream",
     "text": [
      "              precision    recall  f1-score   support\n",
      "\n",
      "         0.0       0.74      0.94      0.83       834\n",
      "         1.0       0.97      0.87      0.92      2077\n",
      "\n",
      "    accuracy                           0.89      2911\n",
      "   macro avg       0.86      0.90      0.87      2911\n",
      "weighted avg       0.91      0.89      0.89      2911\n",
      "\n",
      "Accuracy = 0.8890415664720027, Precision = 0.9730312837108953, Recall = 0.8685604236880116, F1-score = 0.917832612566777\n",
      "Confusion Matrix is:\n",
      "[[ 784   50]\n",
      " [ 273 1804]]\n"
     ]
    }
   ],
   "source": [
    "    print(classification_report(ytest, yfit))\n",
    "    cm= confusion_matrix(ytest,yfit )\n",
    "    acc  = accuracy(ytest,yfit)\n",
    "    rec  = recall(ytest,yfit )\n",
    "    prec = precision(ytest,yfit )\n",
    "    f1   = f1_score(ytest,yfit )\n",
    "    print(f'Accuracy = {acc}, Precision = {prec}, Recall = {rec}, F1-score = {f1}')\n",
    "    print('Confusion Matrix is:')\n",
    "    print(cm)"
   ]
  },
  {
   "cell_type": "markdown",
   "metadata": {},
   "source": [
    "#### Plotting some heartbeats\n"
   ]
  },
  {
   "cell_type": "code",
   "execution_count": 118,
   "metadata": {},
   "outputs": [
    {
     "name": "stdout",
     "output_type": "stream",
     "text": [
      "(323,)\n",
      "(2588,)\n"
     ]
    }
   ],
   "source": [
    "allWrongIndices = np.where(yfit != ytest)[0]\n",
    "allRightIndices = np.where(yfit == ytest)[0]\n",
    "print(allWrongIndices.shape)\n",
    "print(allRightIndices.shape)"
   ]
  },
  {
   "cell_type": "code",
   "execution_count": 107,
   "metadata": {},
   "outputs": [
    {
     "data": {
      "image/png": "[encoded data removed]",
      "text/plain": [
       "<Figure size 432x288 with 1 Axes>"
      ]
     },
     "metadata": {
      "needs_background": "light"
     },
     "output_type": "display_data"
    }
   ],
   "source": [
    "plt.plot(Xtest[15,:], color = 'blue', label = 'normal' if ytest[15]  == 0 else 'abnormal')\n",
    "plt.plot(Xtest[197,:], color = 'red', label = 'normal' if ytest[197]  == 0 else 'abnormal')\n",
    "plt.legend()\n",
    "plt.show()"
   ]
  },
  {
   "cell_type": "code",
   "execution_count": 122,
   "metadata": {},
   "outputs": [
    {
     "name": "stdout",
     "output_type": "stream",
     "text": [
      "The number of false positives is: 273\n",
      "The number of false negatives is: 50\n",
      "The number of true positives is: 784\n",
      "The number of true negatives is: 1804\n",
      "To check, compare values to the confusion matrix for the model: \n",
      " [[ 784   50]\n",
      " [ 273 1804]]\n"
     ]
    }
   ],
   "source": [
    "falsePositiveIndices = allWrongIndices[np.where(ytest[allWrongIndices] == 1)]\n",
    "falseNegativeIndices = allWrongIndices[np.where(ytest[allWrongIndices] == 0)]\n",
    "truePositiveIndices = allRightIndices[np.where(ytest[allRightIndices] == 0)]\n",
    "trueNegativeIndices = allRightIndices[np.where(ytest[allRightIndices]== 1)]\n",
    "print(f\"The number of false positives is: {falsePositiveIndices.shape[0]}\")\n",
    "print(f\"The number of false negatives is: {falseNegativeIndices.shape[0]}\")\n",
    "print(f\"The number of true positives is: {truePositiveIndices.shape[0]}\")\n",
    "print(f\"The number of true negatives is: {trueNegativeIndices.shape[0]}\")\n",
    "print(f\"To check, compare values to the confusion matrix for the model: \\n {cm}\")"
   ]
  },
  {
   "cell_type": "code",
   "execution_count": 201,
   "metadata": {},
   "outputs": [
    {
     "data": {
      "image/png": "[encoded data removed]",
      "text/plain": [
       "<Figure size 720x360 with 4 Axes>"
      ]
     },
     "metadata": {
      "needs_background": "light"
     },
     "output_type": "display_data"
    }
   ],
   "source": [
    "import pylab\n",
    "numCurves = 4 #number of curves per plot\n",
    "cm = pylab.get_cmap('tab20')\n",
    "cgen = [cm(1.*i/numCurves) for i in range(numCurves)] #generating a unique color for each curve in the plot\n",
    "fig, ax = plt.subplots(2, 2)\n",
    "fig.set_size_inches(10, 5)\n",
    "indList = [truePositiveIndices, falseNegativeIndices, falsePositiveIndices, trueNegativeIndices]\n",
    "titleList = ['True Label 0 and Predicted Label 0', \"True Label 0 Predicted Label 1\", \"True Label 1 Predicted Label 0\",\"True Label 1 Predicted Label 1\"]\n",
    "for i, axi in enumerate(ax.flat):\n",
    "    j = indList[i][:numCurves]\n",
    "#     print(j)\n",
    "    for k in range(numCurves):\n",
    "        axi.plot(Xtest[j[k],:], color = cgen[k])\n",
    "    axi.set_title( titleList[i])\n",
    "fig.tight_layout(pad=2.0)\n",
    "\n"
   ]
  },
  {
   "cell_type": "markdown",
   "metadata": {},
   "source": [
    "### Examining the False Negatives"
   ]
  },
  {
   "cell_type": "code",
   "execution_count": 189,
   "metadata": {},
   "outputs": [
    {
     "name": "stdout",
     "output_type": "stream",
     "text": [
      "[0. 0. 0. 0. 0. 0. 0. 0. 0. 0. 0. 0. 0. 0. 0. 0. 0. 0. 0. 0. 0. 0. 0. 0.\n",
      " 0. 0. 0. 0. 0. 0. 0. 0. 0. 0. 0. 0. 0. 0. 0. 0. 0. 0. 0. 0. 0. 0. 0. 0.\n",
      " 0. 0.]\n",
      "[1. 1. 1. 1. 1. 1. 1. 1. 1. 1. 1. 1. 1. 1. 1. 1. 1. 1. 1. 1. 1. 1. 1. 1.\n",
      " 1. 1. 1. 1. 1. 1. 1. 1. 1. 1. 1. 1. 1. 1. 1. 1. 1. 1. 1. 1. 1. 1. 1. 1.\n",
      " 1. 1.]\n"
     ]
    }
   ],
   "source": [
    "# Breaking up X into subsets of fp,fn, tp, and tn.\n",
    "Xfn = Xtest[falseNegativeIndices,:] #the data set classified as label 1, though it was label 0\n",
    "Xtp = Xtest[truePositiveIndices,:] #the data set classified as label 1 with actual label 1\n",
    "Xfp = Xtest[falsePositiveIndices,:] #the data set classified as label 1 with actual label 0\n",
    "Xtn = Xtest[trueNegativeIndices,:] #the data set classified as label 0 with actual label 0\n",
    "#checking\n",
    "print(ytest[falseNegativeIndices])\n",
    "print(yfit[falseNegativeIndices])\n"
   ]
  },
  {
   "cell_type": "code",
   "execution_count": 190,
   "metadata": {},
   "outputs": [],
   "source": [
    "paddingStart_fn = [findFirstIndexOfPadding(row) for row in Xfn if findFirstIndexOfPadding(row) is not None ]\n",
    "paddingLengths_fn= [Xfn.shape[1] - n for n in paddingStart_fn]\n",
    "paddingStart = [findFirstIndexOfPadding(row) for row in X if findFirstIndexOfPadding(row) is not None ]\n",
    "paddingLengths= [X.shape[1] - n for n in paddingStart]\n",
    "paddingStart_tp = [findFirstIndexOfPadding(row) for row in Xtp if findFirstIndexOfPadding(row) is not None ]\n",
    "paddingLengths_tp= [Xtp.shape[1] - n for n in paddingStart_tp]\n",
    "paddingStart_tn = [findFirstIndexOfPadding(row) for row in Xtn if findFirstIndexOfPadding(row) is not None ]\n",
    "paddingLengths_tn= [Xtn.shape[1] - n for n in paddingStart_tn]\n",
    "paddingStart_fp = [findFirstIndexOfPadding(row) for row in Xfp if findFirstIndexOfPadding(row) is not None ]\n",
    "paddingLengths_fp= [Xfp.shape[1] - n for n in paddingStart_fp]"
   ]
  },
  {
   "cell_type": "code",
   "execution_count": 195,
   "metadata": {},
   "outputs": [
    {
     "data": {
      "image/png": "[encoded data removed]",
      "text/plain": [
       "<Figure size 720x360 with 4 Axes>"
      ]
     },
     "metadata": {
      "needs_background": "light"
     },
     "output_type": "display_data"
    }
   ],
   "source": [
    "## Histograms \n",
    "fig = plt.figure()\n",
    "\n",
    "fig.set_size_inches(10, 5)\n",
    "\n",
    "# Adds subplot on position 1\n",
    "ax = fig.add_subplot(221)\n",
    "ax2 = fig.add_subplot(222)\n",
    "ax3 = fig.add_subplot(223)\n",
    "ax4 = fig.add_subplot(224)\n",
    "ax.hist(paddingLengths_tp)\n",
    "ax.set_title(\"Histogram of Padding Lengths for the True Positives\")\n",
    "ax2.hist(paddingLengths_fn)\n",
    "ax2.set_title(\"Histogram of Padding Lengths for the False Negatives\")\n",
    "ax3.hist(paddingLengths_fp)\n",
    "ax3.set_title(\"Histogram of Padding Lengths for the False Positives\")\n",
    "ax4.hist(paddingLengths_tn)\n",
    "ax4.set_title(\"Histogram of Padding Lengths for the True Negatives\")\n",
    "\n",
    "fig.tight_layout(pad=4.0)\n",
    "\n"
   ]
  },
  {
   "cell_type": "code",
   "execution_count": 202,
   "metadata": {},
   "outputs": [
    {
     "name": "stdout",
     "output_type": "stream",
     "text": [
      "Stats for Xfn padding lengths: DescribeResult(nobs=50, minmax=(5, 117), mean=74.56, variance=497.63918367346946, skewness=-1.042589714349226, kurtosis=1.8810561145972553)\n",
      "Stats for the padding lengths of X (the entire dataset) = DescribeResult(nobs=14552, minmax=(1, 136), mean=69.40454920285872, variance=625.0863458760751, skewness=-0.020572933031836993, kurtosis=-0.1796103044878361)\n"
     ]
    }
   ],
   "source": [
    "from scipy import stats\n",
    "print(f\"Stats for Xfn padding lengths: {stats.describe(paddingLengths_fn)}\")\n",
    "print(f\"Stats for the padding lengths of X (the entire dataset) = {stats.describe(paddingLengths)}\")"
   ]
  },
  {
   "cell_type": "code",
   "execution_count": 198,
   "metadata": {},
   "outputs": [
    {
     "name": "stdout",
     "output_type": "stream",
     "text": [
      "The median of Xfn padding lengths = 80.0\n",
      "The median of Xtp padding lengths = 56.5\n",
      "The median of Xfp padding lengths = 61.0\n",
      "The median of Xtn padding lengths = 79.0\n"
     ]
    }
   ],
   "source": [
    "print(f'The median of Xfn padding lengths = {np.median(paddingLengths_fn)}')\n",
    "print(f'The median of Xtp padding lengths = {np.median(paddingLengths_tp)}')\n",
    "print(f'The median of Xfp padding lengths = {np.median(paddingLengths_fp)}')\n",
    "print(f'The median of Xtn padding lengths = {np.median(paddingLengths_tn)}')"
   ]
  },
  {
   "cell_type": "code",
   "execution_count": 199,
   "metadata": {},
   "outputs": [
    {
     "name": "stdout",
     "output_type": "stream",
     "text": [
      "The median padding length for the entire dataset X  = 70.0\n"
     ]
    }
   ],
   "source": [
    "print(f'The median padding length for the entire dataset X  = {np.median(paddingLengths)}')"
   ]
  },
  {
   "cell_type": "markdown",
   "metadata": {},
   "source": [
    "#### Question\n",
    "Could the false negative errors be due to padding?"
   ]
  },
  {
   "cell_type": "markdown",
   "metadata": {},
   "source": [
    "### Trying shorter time series to reduce the padding percentage\n"
   ]
  },
  {
   "cell_type": "code",
   "execution_count": 203,
   "metadata": {},
   "outputs": [],
   "source": [
    "newLength = 80 #the reduced length of the time series\n",
    "X80 = X[:, :newLength]\n",
    "\n"
   ]
  },
  {
   "cell_type": "code",
   "execution_count": 204,
   "metadata": {},
   "outputs": [],
   "source": [
    "#Splitting the data into train and test sets\n",
    "\n",
    "Xtrain, Xtest, ytrain, ytest =train_test_split(X80, Y, test_size=0.2, random_state=42)"
   ]
  },
  {
   "cell_type": "code",
   "execution_count": 205,
   "metadata": {},
   "outputs": [
    {
     "name": "stdout",
     "output_type": "stream",
     "text": [
      "dict_keys(['memory', 'steps', 'verbose', 'standardscaler', 'svc', 'standardscaler__copy', 'standardscaler__with_mean', 'standardscaler__with_std', 'svc__C', 'svc__break_ties', 'svc__cache_size', 'svc__class_weight', 'svc__coef0', 'svc__decision_function_shape', 'svc__degree', 'svc__gamma', 'svc__kernel', 'svc__max_iter', 'svc__probability', 'svc__random_state', 'svc__shrinking', 'svc__tol', 'svc__verbose'])\n",
      "Pipeline(steps=[('standardscaler', StandardScaler()),\n",
      "                ('svc', SVC(class_weight='balanced', gamma=0.005))])\n",
      "{'svc__gamma': 0.005, 'svc__kernel': 'rbf'}\n",
      "{'cv': None, 'error_score': nan, 'estimator__memory': None, 'estimator__steps': [('standardscaler', StandardScaler()), ('svc', SVC(class_weight='balanced'))], 'estimator__verbose': False, 'estimator__standardscaler': StandardScaler(), 'estimator__svc': SVC(class_weight='balanced'), 'estimator__standardscaler__copy': True, 'estimator__standardscaler__with_mean': True, 'estimator__standardscaler__with_std': True, 'estimator__svc__C': 1.0, 'estimator__svc__break_ties': False, 'estimator__svc__cache_size': 200, 'estimator__svc__class_weight': 'balanced', 'estimator__svc__coef0': 0.0, 'estimator__svc__decision_function_shape': 'ovr', 'estimator__svc__degree': 3, 'estimator__svc__gamma': 'scale', 'estimator__svc__kernel': 'rbf', 'estimator__svc__max_iter': -1, 'estimator__svc__probability': False, 'estimator__svc__random_state': None, 'estimator__svc__shrinking': True, 'estimator__svc__tol': 0.001, 'estimator__svc__verbose': False, 'estimator': Pipeline(steps=[('standardscaler', StandardScaler()),\n",
      "                ('svc', SVC(class_weight='balanced'))]), 'iid': 'deprecated', 'n_jobs': None, 'param_grid': {'svc__kernel': ['linear', 'rbf'], 'svc__gamma': [0.0001, 0.0005, 0.001, 0.005]}, 'pre_dispatch': '2*n_jobs', 'refit': True, 'return_train_score': False, 'scoring': None, 'verbose': 0}\n",
      "              precision    recall  f1-score   support\n",
      "\n",
      "         0.0       0.64      0.95      0.77       834\n",
      "         1.0       0.97      0.79      0.87      2077\n",
      "\n",
      "    accuracy                           0.83      2911\n",
      "   macro avg       0.81      0.87      0.82      2911\n",
      "weighted avg       0.88      0.83      0.84      2911\n",
      "\n",
      "Accuracy = 0.8340776365510134, Precision = 0.9732779097387173, Recall = 0.7891189215214252, F1-score = 0.8715767083222548\n",
      "Confusion Matrix is:\n",
      "[[ 789   45]\n",
      " [ 438 1639]]\n"
     ]
    }
   ],
   "source": [
    "# Setting up the search grid:\n",
    "param_grid = {'svc__kernel' : ['linear', 'rbf'], 'svc__gamma': [0.0001, 0.0005, 0.001, 0.005]}\n",
    "\n",
    "#Standardizing and building the model with grid search\n",
    "\n",
    "mode80 = svmStandardized_withGridSearch(Xtrain, Xtest, ytrain, ytest, param_grid)\n"
   ]
  },
  {
   "cell_type": "code",
   "execution_count": null,
   "metadata": {},
   "outputs": [],
   "source": [
    "[[ 784   50]\n",
    " [ 273 1804]]"
   ]
  },
  {
   "cell_type": "code",
   "execution_count": 206,
   "metadata": {},
   "outputs": [
    {
     "name": "stdout",
     "output_type": "stream",
     "text": [
      "dict_keys(['memory', 'steps', 'verbose', 'standardscaler', 'svc', 'standardscaler__copy', 'standardscaler__with_mean', 'standardscaler__with_std', 'svc__C', 'svc__break_ties', 'svc__cache_size', 'svc__class_weight', 'svc__coef0', 'svc__decision_function_shape', 'svc__degree', 'svc__gamma', 'svc__kernel', 'svc__max_iter', 'svc__probability', 'svc__random_state', 'svc__shrinking', 'svc__tol', 'svc__verbose'])\n",
      "Pipeline(steps=[('standardscaler', StandardScaler()),\n",
      "                ('svc', SVC(class_weight='balanced', gamma=0.005))])\n",
      "{'svc__gamma': 0.005, 'svc__kernel': 'rbf'}\n",
      "{'cv': None, 'error_score': nan, 'estimator__memory': None, 'estimator__steps': [('standardscaler', StandardScaler()), ('svc', SVC(class_weight='balanced'))], 'estimator__verbose': False, 'estimator__standardscaler': StandardScaler(), 'estimator__svc': SVC(class_weight='balanced'), 'estimator__standardscaler__copy': True, 'estimator__standardscaler__with_mean': True, 'estimator__standardscaler__with_std': True, 'estimator__svc__C': 1.0, 'estimator__svc__break_ties': False, 'estimator__svc__cache_size': 200, 'estimator__svc__class_weight': 'balanced', 'estimator__svc__coef0': 0.0, 'estimator__svc__decision_function_shape': 'ovr', 'estimator__svc__degree': 3, 'estimator__svc__gamma': 'scale', 'estimator__svc__kernel': 'rbf', 'estimator__svc__max_iter': -1, 'estimator__svc__probability': False, 'estimator__svc__random_state': None, 'estimator__svc__shrinking': True, 'estimator__svc__tol': 0.001, 'estimator__svc__verbose': False, 'estimator': Pipeline(steps=[('standardscaler', StandardScaler()),\n",
      "                ('svc', SVC(class_weight='balanced'))]), 'iid': 'deprecated', 'n_jobs': None, 'param_grid': {'svc__kernel': ['rbf'], 'svc__gamma': [0.005]}, 'pre_dispatch': '2*n_jobs', 'refit': True, 'return_train_score': False, 'scoring': None, 'verbose': 0}\n",
      "              precision    recall  f1-score   support\n",
      "\n",
      "         0.0       0.68      0.94      0.79       834\n",
      "         1.0       0.97      0.82      0.89      2077\n",
      "\n",
      "    accuracy                           0.86      2911\n",
      "   macro avg       0.83      0.88      0.84      2911\n",
      "weighted avg       0.89      0.86      0.86      2911\n",
      "\n",
      "Accuracy = 0.8584678804534525, Precision = 0.9738190096755834, Recall = 0.8237843042850265, F1-score = 0.8925404277516954\n",
      "Confusion Matrix is:\n",
      "[[ 788   46]\n",
      " [ 366 1711]]\n"
     ]
    }
   ],
   "source": [
    "newLength = 110 #the reduced length of the time series\n",
    "X110 = X[:, :newLength]\n",
    "#Splitting the data into train and test sets\n",
    "Xtrain, Xtest, ytrain, ytest =train_test_split(X110, Y, test_size=0.2, random_state=42)\n",
    "# Setting up the search grid:\n",
    "param_grid = {'svc__kernel' : [ 'rbf'], 'svc__gamma': [0.005]}\n",
    "\n",
    "#Standardizing and building the model with grid search\n",
    "\n",
    "model110 = svmStandardized_withGridSearch(Xtrain, Xtest, ytrain, ytest, param_grid)"
   ]
  },
  {
   "cell_type": "markdown",
   "metadata": {},
   "source": [
    "#### Conclusions Regarding Reducing the Time Series Lengths\n",
    "\n",
    "The number of false positives is slightly reduced but the overall quality of the model deteriorates as the time series lengths are reduced.  \n"
   ]
  },
  {
   "cell_type": "markdown",
   "metadata": {},
   "source": [
    "# Conclusion Regarding Using SVMs for Classifying ECG Heartbeats\n",
    "\n",
    "The best SVM model we found was created by:\n",
    "1. Standardizing the dataset first\n",
    "2. Parameter settings are kernel='rbf', gamma = 0.005, class_weight = 'balanced'\n",
    "\n",
    "\n",
    "The results are:\n",
    "\n",
    "1. Accuracy = 0.8890415664720027\n",
    "2. Precision = 0.9730312837108953\n",
    "3. Recall = 0.8685604236880116\n",
    "4. F1-score = 0.917832612566777\n",
    "5. Confusion Matrix is:\n",
    "\n",
    "[[ 784   50]\n",
    "\n",
    " [ 273 1804]]"
   ]
  },
  {
   "cell_type": "code",
   "execution_count": null,
   "metadata": {},
   "outputs": [],
   "source": []
  }
 ],
 "metadata": {
  "kernelspec": {
   "display_name": "Python 3",
   "language": "python",
   "name": "python3"
  },
  "language_info": {
   "codemirror_mode": {
    "name": "ipython",
    "version": 3
   },
   "file_extension": ".py",
   "mimetype": "text/x-python",
   "name": "python",
   "nbconvert_exporter": "python",
   "pygments_lexer": "ipython3",
   "version": "3.8.5"
  }
 },
 "nbformat": 4,
 "nbformat_minor": 5
}
