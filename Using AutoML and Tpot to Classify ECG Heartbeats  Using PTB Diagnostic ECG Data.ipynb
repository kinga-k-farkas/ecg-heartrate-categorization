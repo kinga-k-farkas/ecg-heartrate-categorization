{
 "cells": [
  {
   "cell_type": "code",
   "execution_count": 6,
   "metadata": {},
   "outputs": [],
   "source": [
    "import pandas as pd\n",
    "import numpy as np\n",
    "from tpot import TPOTClassifier\n",
    "from sklearn.metrics import confusion_matrix\n",
    "from sklearn.metrics import accuracy_score as accuracy\n",
    "from sklearn.metrics import recall_score as recall\n",
    "from sklearn.metrics import precision_score as precision\n",
    "from sklearn.metrics import f1_score\n",
    "from sklearn.model_selection import train_test_split"
   ]
  },
  {
   "cell_type": "code",
   "execution_count": 7,
   "metadata": {},
   "outputs": [
    {
     "name": "stdout",
     "output_type": "stream",
     "text": [
      "(14552, 188)\n",
      "The feature space is of shape: (14552, 187)\n",
      "The target is of shape: (14552,)\n"
     ]
    }
   ],
   "source": [
    "df_normal = pd.read_csv(\"archive/ptbdb_normal.csv\", header = None)\n",
    "df_abnormal = pd.read_csv(\"archive/ptbdb_abnormal.csv\", header = None)\n",
    "df = pd.concat([df_normal, df_abnormal])\n",
    "print(df.shape)\n",
    "# Separating features and target \n",
    "\n",
    "X = np.array(df[df.columns[:-1]])\n",
    "print(f'The feature space is of shape: {X.shape}')\n",
    "Y= np.array(df[187])\n",
    "print(f'The target is of shape: {Y.shape}')"
   ]
  },
  {
   "cell_type": "code",
   "execution_count": 8,
   "metadata": {},
   "outputs": [],
   "source": [
    "Xtrain, Xtest, ytrain, ytest =train_test_split(X, Y, test_size=0.2, random_state=42)"
   ]
  },
  {
   "cell_type": "code",
   "execution_count": 10,
   "metadata": {},
   "outputs": [
    {
     "data": {
      "application/vnd.jupyter.widget-view+json": {
       "model_id": "",
       "version_major": 2,
       "version_minor": 0
      },
      "text/plain": [
       "Optimization Progress:   0%|          | 0/240 [00:00<?, ?pipeline/s]"
      ]
     },
     "metadata": {},
     "output_type": "display_data"
    },
    {
     "name": "stdout",
     "output_type": "stream",
     "text": [
      "\n",
      "Generation 1 - Current best internal CV score: 0.9744867862112111\n",
      "\n",
      "Generation 2 - Current best internal CV score: 0.9762910943593329\n",
      "\n",
      "Generation 3 - Current best internal CV score: 0.9762910943593329\n",
      "\n",
      "Generation 4 - Current best internal CV score: 0.9769779000470683\n",
      "\n",
      "Generation 5 - Current best internal CV score: 0.9769779000470683\n",
      "\n",
      "Best pipeline: GradientBoostingClassifier(BernoulliNB(CombineDFs(input_matrix, input_matrix), alpha=0.001, fit_prior=False), learning_rate=0.5, max_depth=8, max_features=0.35000000000000003, min_samples_leaf=20, min_samples_split=17, n_estimators=100, subsample=0.6000000000000001)\n",
      "0.9804190999656476\n"
     ]
    }
   ],
   "source": [
    "# TPOT for classification\n",
    "\n",
    "### START CODE HERE ###\n",
    "# Instantiate and train a TPOT auto-ML classifier\n",
    "# Set generations to 5, population_size to 40, and verbosity to 2 (so you can see each generation's performance)\n",
    "tpot = TPOTClassifier(generations=5, population_size=40, verbosity=2, random_state=42)\n",
    "tpot.fit(Xtrain, ytrain)\n",
    "# Evaluate the classifier on the test data\n",
    "# By default, the scoring function is accuracy\n",
    "print(tpot.score(Xtest, ytest))\n",
    "### END CODE HERE ###\n",
    "tpot.export('tpotResults2.py')"
   ]
  },
  {
   "cell_type": "code",
   "execution_count": 12,
   "metadata": {},
   "outputs": [],
   "source": [
    "## Creating and running the model suggested by tpot\n",
    "from sklearn.ensemble import GradientBoostingClassifier\n",
    "from sklearn.model_selection import train_test_split\n",
    "from sklearn.naive_bayes import BernoulliNB\n",
    "from sklearn.pipeline import make_pipeline, make_union\n",
    "from tpot.builtins import StackingEstimator\n",
    "from tpot.export_utils import set_param_recursive\n",
    "from sklearn.preprocessing import FunctionTransformer\n",
    "from copy import copy\n",
    "exported_pipeline = make_pipeline(\n",
    "    make_union(\n",
    "        FunctionTransformer(copy),\n",
    "        FunctionTransformer(copy)\n",
    "    ),\n",
    "    StackingEstimator(estimator=BernoulliNB(alpha=0.001, fit_prior=False)),\n",
    "    GradientBoostingClassifier(learning_rate=0.5, max_depth=8, max_features=0.35000000000000003, min_samples_leaf=20, min_samples_split=17, n_estimators=100, subsample=0.6000000000000001)\n",
    ")\n",
    "# Fix random state for all the steps in exported pipeline\n",
    "set_param_recursive(exported_pipeline.steps, 'random_state', 42)\n",
    "\n",
    "exported_pipeline.fit(Xtrain, ytrain)\n",
    "yfit = exported_pipeline.predict(Xtest)"
   ]
  },
  {
   "cell_type": "code",
   "execution_count": 13,
   "metadata": {},
   "outputs": [
    {
     "name": "stdout",
     "output_type": "stream",
     "text": [
      "Accuracy = 0.9804190999656476, Precision = 0.9814108674928503, Recall = 0.9913336543090997, F1-score = 0.9863473053892216\n",
      "Confusion Matrix is:\n",
      "[[ 795   39]\n",
      " [  18 2059]]\n"
     ]
    }
   ],
   "source": [
    "cm= confusion_matrix(ytest,yfit )\n",
    "acc  = accuracy(ytest,yfit)\n",
    "rec  = recall(ytest,yfit )\n",
    "prec = precision(ytest,yfit )\n",
    "f1   = f1_score(ytest,yfit )\n",
    "print(f'Accuracy = {acc}, Precision = {prec}, Recall = {rec}, F1-score = {f1}')\n",
    "print('Confusion Matrix is:')\n",
    "print(cm)"
   ]
  },
  {
   "cell_type": "code",
   "execution_count": null,
   "metadata": {},
   "outputs": [],
   "source": []
  }
 ],
 "metadata": {
  "kernelspec": {
   "display_name": "Python 3",
   "language": "python",
   "name": "python3"
  },
  "language_info": {
   "codemirror_mode": {
    "name": "ipython",
    "version": 3
   },
   "file_extension": ".py",
   "mimetype": "text/x-python",
   "name": "python",
   "nbconvert_exporter": "python",
   "pygments_lexer": "ipython3",
   "version": "3.6.10"
  }
 },
 "nbformat": 4,
 "nbformat_minor": 4
}
